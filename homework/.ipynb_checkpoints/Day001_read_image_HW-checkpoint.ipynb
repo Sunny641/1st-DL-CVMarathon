{
 "cells": [
  {
   "cell_type": "markdown",
   "metadata": {},
   "source": [
    "# 作業\n",
    "\n",
    "思考一下我們前面有提到圖片是矩陣，但維度可能會不一樣\n",
    "例如灰階圖只有兩個維度，RGB 彩圖則有 3 個維度\n",
    "\n",
    "假如今天我們把 RGB 3 個維度拆開來看會有甚麼不同的效果呢？"
   ]
  },
  {
   "cell_type": "code",
   "execution_count": 9,
   "metadata": {},
   "outputs": [
    {
     "name": "stdout",
     "output_type": "stream",
     "text": [
      "(512, 512, 3)\n"
     ]
    }
   ],
   "source": [
    "import cv2\n",
    "\n",
    "img_path = 'data/lena.png'\n",
    "img = cv2.imread(img_path, cv2.IMREAD_COLOR)\n",
    "print(img.shape)"
   ]
  },
  {
   "cell_type": "code",
   "execution_count": 10,
   "metadata": {},
   "outputs": [],
   "source": [
    "imgB = img.copy()\n",
    "imgB[:,:,1] = 0\n",
    "imgB[:,:,2] = 0\n",
    "\n",
    "imgG = img.copy()\n",
    "imgG[:,:,0] = 0\n",
    "imgG[:,:,2] = 0\n",
    "\n",
    "imgR = img.copy()\n",
    "imgR[:,:,0] = 0\n",
    "imgR[:,:,1] = 0\n",
    "\n",
    "cv2.imshow('R channel', imgR)\n",
    "cv2.imshow('G channel', imgG)\n",
    "cv2.imshow('B channel', imgB)\n",
    "\n",
    "cv2.waitKey(0)\n",
    "cv2.destroyAllWindows()"
   ]
  },
  {
   "cell_type": "code",
   "execution_count": null,
   "metadata": {},
   "outputs": [],
   "source": []
  }
 ],
 "metadata": {
  "kernelspec": {
   "display_name": "Python 3",
   "language": "python",
   "name": "python3"
  },
  "language_info": {
   "codemirror_mode": {
    "name": "ipython",
    "version": 3
   },
   "file_extension": ".py",
   "mimetype": "text/x-python",
   "name": "python",
   "nbconvert_exporter": "python",
   "pygments_lexer": "ipython3",
   "version": "3.7.4"
  }
 },
 "nbformat": 4,
 "nbformat_minor": 2
}
